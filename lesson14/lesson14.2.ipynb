{
 "cells": [
  {
   "cell_type": "code",
   "execution_count": 1,
   "metadata": {},
   "outputs": [
    {
     "data": {
      "text/plain": [
       "(5, 7)"
      ]
     },
     "execution_count": 1,
     "metadata": {},
     "output_type": "execute_result"
    }
   ],
   "source": [
    "(5,7)"
   ]
  },
  {
   "cell_type": "code",
   "execution_count": 2,
   "metadata": {},
   "outputs": [
    {
     "data": {
      "text/plain": [
       "(5, 7)"
      ]
     },
     "execution_count": 2,
     "metadata": {},
     "output_type": "execute_result"
    }
   ],
   "source": [
    "5, 7"
   ]
  },
  {
   "cell_type": "code",
   "execution_count": 3,
   "metadata": {},
   "outputs": [
    {
     "data": {
      "text/plain": [
       "(5,)"
      ]
     },
     "execution_count": 3,
     "metadata": {},
     "output_type": "execute_result"
    }
   ],
   "source": [
    "(5,)"
   ]
  },
  {
   "cell_type": "code",
   "execution_count": 4,
   "metadata": {},
   "outputs": [
    {
     "data": {
      "text/plain": [
       "[1, 3, 5, 7, 9, 3, 5, 6, 7, 9]"
      ]
     },
     "execution_count": 4,
     "metadata": {},
     "output_type": "execute_result"
    }
   ],
   "source": [
    "list_a = [1, 3, 5, 7, 9]\n",
    "list_b = [3, 5, 6, 7, 9]\n",
    "list_a + list_b"
   ]
  },
  {
   "cell_type": "code",
   "execution_count": 5,
   "metadata": {},
   "outputs": [
    {
     "data": {
      "text/plain": [
       "array([ 4,  8, 11, 14, 18])"
      ]
     },
     "execution_count": 5,
     "metadata": {},
     "output_type": "execute_result"
    }
   ],
   "source": [
    "import numpy as np\n",
    "array_a = np.array([1, 3, 5, 7, 9])\n",
    "array_b = np.array([3, 5, 6, 7, 9])\n",
    "type(array_a)\n",
    "array_a + array_b"
   ]
  },
  {
   "cell_type": "code",
   "execution_count": 6,
   "metadata": {},
   "outputs": [
    {
     "data": {
      "text/plain": [
       "(2, (2, 3), 6, dtype('int64'))"
      ]
     },
     "execution_count": 6,
     "metadata": {},
     "output_type": "execute_result"
    }
   ],
   "source": [
    "import numpy as np\n",
    "\n",
    "l = [[1,2,3],[2,3,4]]\n",
    "array = np.array(l)\n",
    "array.ndim, array.shape, array.size, array.dtype\n"
   ]
  },
  {
   "cell_type": "code",
   "execution_count": 7,
   "metadata": {},
   "outputs": [
    {
     "data": {
      "text/plain": [
       "array([[ 0.64058951, -1.05131492,  1.00955784,  0.37574154,  1.34448613],\n",
       "       [-0.27400185, -0.40242964, -0.75739131, -0.13534744, -0.81240165],\n",
       "       [-0.89444231, -0.48650897, -0.83607319,  0.51922657,  1.17988855],\n",
       "       [-2.04052592, -0.31088027,  0.64126751, -0.97161448, -0.98370535],\n",
       "       [-1.05705445, -0.55105634, -0.39904268, -1.36505569,  0.79845721],\n",
       "       [ 1.6304315 , -0.99675064,  0.4010763 ,  1.05301444,  1.31974061],\n",
       "       [ 0.05169631, -0.11446532, -0.84860457,  0.41205616, -0.52210646],\n",
       "       [ 0.36272433, -0.00743308, -0.59357846, -2.1259197 , -0.89472366],\n",
       "       [ 0.84776043, -1.16493642, -1.0277526 , -0.21630087, -1.77557416],\n",
       "       [ 0.47200635,  0.77721047,  0.13915572, -0.62238729,  1.00854198]])"
      ]
     },
     "execution_count": 7,
     "metadata": {},
     "output_type": "execute_result"
    }
   ],
   "source": [
    "import numpy as np\n",
    "np.random.randn(10,5)"
   ]
  },
  {
   "cell_type": "code",
   "execution_count": 8,
   "metadata": {},
   "outputs": [
    {
     "data": {
      "text/plain": [
       "array([[ 83,  83,  89,  99,  96],\n",
       "       [ 82,  53,  96, 100,  87],\n",
       "       [ 74,  50,  72,  74,  60],\n",
       "       [ 96,  78,  80,  66,  83],\n",
       "       [ 81,  75,  66,  77,  85],\n",
       "       [ 60,  50,  57,  77,  63],\n",
       "       [ 65,  90,  88,  92,  89],\n",
       "       [ 65,  56,  69, 100,  54],\n",
       "       [ 75,  88,  96,  51,  78],\n",
       "       [ 92,  61,  78,  52,  76],\n",
       "       [ 61,  84,  76,  59,  96],\n",
       "       [ 56,  79,  58,  96,  89],\n",
       "       [ 99,  77,  67,  70,  50],\n",
       "       [ 97,  85,  56,  59,  69],\n",
       "       [ 58,  77,  80,  93,  57],\n",
       "       [ 67,  99,  99,  90,  83],\n",
       "       [ 61,  76,  80,  54,  78],\n",
       "       [ 54,  84,  86,  84,  95],\n",
       "       [ 79,  80,  77,  61,  57],\n",
       "       [ 93,  83,  54,  99,  94],\n",
       "       [100,  72,  80,  78,  64],\n",
       "       [ 62,  79,  74,  95,  63],\n",
       "       [ 67,  63,  73,  70,  81],\n",
       "       [ 50,  79,  68,  70,  96],\n",
       "       [ 91,  91,  65,  51,  68],\n",
       "       [ 89,  63,  73,  83,  96],\n",
       "       [ 88,  72,  94,  68,  66],\n",
       "       [ 50,  74,  61,  62,  83],\n",
       "       [ 59,  97,  50,  77,  71],\n",
       "       [ 76,  79,  88,  60,  50],\n",
       "       [ 97,  50,  94,  51,  92],\n",
       "       [ 68,  61,  98,  54,  51],\n",
       "       [ 59,  82,  71,  92,  93],\n",
       "       [ 88,  66,  96,  50,  53],\n",
       "       [ 99,  52,  74,  75,  90],\n",
       "       [ 85,  60,  97,  92,  59],\n",
       "       [ 65, 100,  58,  61, 100],\n",
       "       [ 75,  98,  52,  81,  59],\n",
       "       [ 61,  89,  75,  53,  73],\n",
       "       [ 64,  61,  75,  52,  95],\n",
       "       [ 99,  78,  53,  95,  81],\n",
       "       [ 53,  94,  60,  79,  55],\n",
       "       [ 84,  75,  70,  81,  52],\n",
       "       [ 69,  53,  95,  76,  67],\n",
       "       [ 83,  72,  70,  77,  92],\n",
       "       [ 95,  75,  95,  75,  60],\n",
       "       [ 93,  57,  70,  59,  57],\n",
       "       [100,  53,  80,  74,  93],\n",
       "       [ 77,  90,  73,  69,  51],\n",
       "       [ 78,  62,  80,  68,  70]])"
      ]
     },
     "execution_count": 8,
     "metadata": {},
     "output_type": "execute_result"
    }
   ],
   "source": [
    "#50個學生,每個學生有5個分數(50-100)\n",
    "scores = np.random.randint(50,101,size=(50,5))\n",
    "scores"
   ]
  },
  {
   "cell_type": "code",
   "execution_count": 9,
   "metadata": {},
   "outputs": [
    {
     "data": {
      "text/plain": [
       "array([[ 95,  75,  95,  75,  60],\n",
       "       [ 93,  57,  70,  59,  57],\n",
       "       [100,  53,  80,  74,  93],\n",
       "       [ 77,  90,  73,  69,  51],\n",
       "       [ 78,  62,  80,  68,  70]])"
      ]
     },
     "execution_count": 9,
     "metadata": {},
     "output_type": "execute_result"
    }
   ],
   "source": [
    "#第一個學生\n",
    "scores[0,:]\n",
    "#前5個學生\n",
    "scores[:5,:]\n",
    "#最後5個學生\n",
    "scores[-5:,:]"
   ]
  },
  {
   "cell_type": "code",
   "execution_count": 10,
   "metadata": {},
   "outputs": [
    {
     "data": {
      "text/plain": [
       "array([ 83,  82,  74,  96,  81,  60,  65,  65,  75,  92,  61,  56,  99,\n",
       "        97,  58,  67,  61,  54,  79,  93, 100,  62,  67,  50,  91,  89,\n",
       "        88,  50,  59,  76,  97,  68,  59,  88,  99,  85,  65,  75,  61,\n",
       "        64,  99,  53,  84,  69,  83,  95,  93, 100,  77,  78])"
      ]
     },
     "execution_count": 10,
     "metadata": {},
     "output_type": "execute_result"
    }
   ],
   "source": [
    "#全班第1科的分數\n",
    "scores[:,0]"
   ]
  },
  {
   "cell_type": "code",
   "execution_count": 11,
   "metadata": {},
   "outputs": [
    {
     "data": {
      "text/plain": [
       "array([ 83,  53,  50,  78,  75,  50,  90,  56,  88,  61,  84,  79,  77,\n",
       "        85,  77,  99,  76,  84,  80,  83,  72,  79,  63,  79,  91,  63,\n",
       "        72,  74,  97,  79,  50,  61,  82,  66,  52,  60, 100,  98,  89,\n",
       "        61,  78,  94,  75,  53,  72,  75,  57,  53,  90,  62])"
      ]
     },
     "execution_count": 11,
     "metadata": {},
     "output_type": "execute_result"
    }
   ],
   "source": [
    "#全班第2科的分數\n",
    "scores[:,1]"
   ]
  },
  {
   "cell_type": "code",
   "execution_count": 12,
   "metadata": {},
   "outputs": [
    {
     "data": {
      "text/plain": [
       "array([450, 418, 330, 403, 384, 307, 424, 344, 388, 359, 376, 378, 363,\n",
       "       366, 365, 438, 349, 403, 354, 423, 394, 373, 354, 363, 366, 404,\n",
       "       388, 330, 354, 353, 384, 332, 397, 353, 390, 393, 384, 365, 351,\n",
       "       347, 406, 341, 362, 360, 394, 400, 336, 400, 360, 358])"
      ]
     },
     "execution_count": 12,
     "metadata": {},
     "output_type": "execute_result"
    }
   ],
   "source": [
    "#每位學生的總分\n",
    "total = scores[:,0] + scores[:,1] + scores[:,2] + scores[:,3] + scores[:,4] \n",
    "total\n"
   ]
  },
  {
   "cell_type": "code",
   "execution_count": 13,
   "metadata": {},
   "outputs": [
    {
     "data": {
      "text/plain": [
       "array([450, 418, 330, 403, 384, 307, 424, 344, 388, 359, 376, 378, 363,\n",
       "       366, 365, 438, 349, 403, 354, 423, 394, 373, 354, 363, 366, 404,\n",
       "       388, 330, 354, 353, 384, 332, 397, 353, 390, 393, 384, 365, 351,\n",
       "       347, 406, 341, 362, 360, 394, 400, 336, 400, 360, 358])"
      ]
     },
     "execution_count": 13,
     "metadata": {},
     "output_type": "execute_result"
    }
   ],
   "source": [
    "#使用統計的方法\n",
    "#每個學生總分\n",
    "np.sum(scores,axis=1)"
   ]
  },
  {
   "cell_type": "code",
   "execution_count": 14,
   "metadata": {},
   "outputs": [
    {
     "data": {
      "text/plain": [
       "array([90. , 83.6, 66. , 80.6, 76.8, 61.4, 84.8, 68.8, 77.6, 71.8, 75.2,\n",
       "       75.6, 72.6, 73.2, 73. , 87.6, 69.8, 80.6, 70.8, 84.6, 78.8, 74.6,\n",
       "       70.8, 72.6, 73.2, 80.8, 77.6, 66. , 70.8, 70.6, 76.8, 66.4, 79.4,\n",
       "       70.6, 78. , 78.6, 76.8, 73. , 70.2, 69.4, 81.2, 68.2, 72.4, 72. ,\n",
       "       78.8, 80. , 67.2, 80. , 72. , 71.6])"
      ]
     },
     "execution_count": 14,
     "metadata": {},
     "output_type": "execute_result"
    }
   ],
   "source": [
    "#每個學生平均\n",
    "np.mean(scores,axis=1)"
   ]
  }
 ],
 "metadata": {
  "kernelspec": {
   "display_name": "Python 3",
   "language": "python",
   "name": "python3"
  },
  "language_info": {
   "codemirror_mode": {
    "name": "ipython",
    "version": 3
   },
   "file_extension": ".py",
   "mimetype": "text/x-python",
   "name": "python",
   "nbconvert_exporter": "python",
   "pygments_lexer": "ipython3",
   "version": "3.11.9"
  }
 },
 "nbformat": 4,
 "nbformat_minor": 2
}
