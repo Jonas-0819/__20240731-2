{
 "cells": [
  {
   "cell_type": "code",
   "execution_count": 1,
   "metadata": {},
   "outputs": [
    {
     "name": "stdout",
     "output_type": "stream",
     "text": [
      "57\n",
      "=============猜數字遊戲=================\n",
      "\n",
      "猜數字範圍1~100:再大一點\n",
      "您已經猜了1次\n",
      "猜數字範圍51~100:再小一點\n",
      "您已經猜了2次\n",
      "猜數字範圍51~77:再小一點\n",
      "您已經猜了3次\n",
      "猜數字範圍51~63:再小一點\n",
      "您已經猜了4次\n",
      "猜數字範圍51~57:再大一點\n",
      "您已經猜了5次\n",
      "猜數字範圍54~57:再大一點\n",
      "您已經猜了6次\n",
      "猜數字範圍56~57:賓果!猜對了, 答案是57\n",
      "您猜了7次\n",
      "您還要繼續嗎?(yes,no)應用程式結束\n"
     ]
    }
   ],
   "source": [
    "import random\n",
    "import pyinputplus as pyip\n",
    "\n",
    "\n",
    "def play_game():\n",
    "    min = 1\n",
    "    max = 100\n",
    "    count = 0\n",
    "    target = random.randint(1, 100)\n",
    "    print(target)\n",
    "    print(\"=============猜數字遊戲=================\\n\")\n",
    "    while True:\n",
    "        count += 1\n",
    "        keyin = pyip.inputInt(f\"猜數字範圍{min}~{max}:\",min=min,max=max)\n",
    "        if keyin == target:\n",
    "            print(f\"賓果!猜對了, 答案是{keyin}\")\n",
    "            print(f\"您猜了{count}次\")\n",
    "            break\n",
    "        elif keyin > target:\n",
    "            print(\"再小一點\")\n",
    "            max = keyin-1\n",
    "        elif keyin < target:\n",
    "            print(\"再大一點\")\n",
    "            min = keyin+1\n",
    "        print(f\"您已經猜了{count}次\")\n",
    "\n",
    "while True:\n",
    "    play_game()\n",
    "    is_play = pyip.inputYesNo('您還要繼續嗎?(yes,no)')\n",
    "    if is_play == 'no':\n",
    "        break\n",
    "print(\"應用程式結束\")"
   ]
  }
 ],
 "metadata": {
  "kernelspec": {
   "display_name": "Python 3",
   "language": "python",
   "name": "python3"
  },
  "language_info": {
   "codemirror_mode": {
    "name": "ipython",
    "version": 3
   },
   "file_extension": ".py",
   "mimetype": "text/x-python",
   "name": "python",
   "nbconvert_exporter": "python",
   "pygments_lexer": "ipython3",
   "version": "3.11.9"
  }
 },
 "nbformat": 4,
 "nbformat_minor": 2
}
