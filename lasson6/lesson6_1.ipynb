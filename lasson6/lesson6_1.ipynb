{
 "cells": [
  {
   "cell_type": "code",
   "execution_count": 1,
   "metadata": {},
   "outputs": [
    {
     "name": "stdout",
     "output_type": "stream",
     "text": [
      "total=55\n",
      "程式結束\n"
     ]
    }
   ],
   "source": [
    "total=0\n",
    "i=1\n",
    "while i<=10:\n",
    "    total+=i\n",
    "    i+=1\n",
    "print(f\"total={total}\\n程式結束\")"
   ]
  },
  {
   "cell_type": "code",
   "execution_count": 5,
   "metadata": {},
   "outputs": [
    {
     "name": "stdout",
     "output_type": "stream",
     "text": [
      "花了1個月存到了30001\n"
     ]
    }
   ],
   "source": [
    "save=0\n",
    "month=0\n",
    "while save<30000:\n",
    "    money=int(input(\"請輸入這個月存的錢\"))\n",
    "    save+=money\n",
    "    month+=1\n",
    "print(f\"花了{month}個月存到了{save}\")"
   ]
  },
  {
   "cell_type": "code",
   "execution_count": 7,
   "metadata": {},
   "outputs": [
    {
     "name": "stdout",
     "output_type": "stream",
     "text": [
      "Jonas\n",
      "Karina\n",
      "應用程式結束\n"
     ]
    }
   ],
   "source": [
    "stuff=input(\"請輸入小寫英文字[按q會離開]:\")\n",
    "#print(type(stuff))\n",
    "while not stuff=='q':\n",
    "    print(stuff.capitalize())\n",
    "    #將字母首字變成大寫\n",
    "    stuff=input(\"請輸入小寫英文字[按q會離開]:\")\n",
    "print(\"應用程式結束\")\n"
   ]
  },
  {
   "cell_type": "code",
   "execution_count": 10,
   "metadata": {},
   "outputs": [
    {
     "name": "stdout",
     "output_type": "stream",
     "text": [
      "Jonas\n",
      "應用程式結束!\n"
     ]
    }
   ],
   "source": [
    "while True:\n",
    "    stuff = input(\"請輸入小寫英文字[按q會離開]:\")\n",
    "    if stuff == 'q':\n",
    "        break\n",
    "    print(stuff.capitalize())\n",
    "    \n",
    "print(\"應用程式結束!\")"
   ]
  }
 ],
 "metadata": {
  "kernelspec": {
   "display_name": "Python 3",
   "language": "python",
   "name": "python3"
  },
  "language_info": {
   "codemirror_mode": {
    "name": "ipython",
    "version": 3
   },
   "file_extension": ".py",
   "mimetype": "text/x-python",
   "name": "python",
   "nbconvert_exporter": "python",
   "pygments_lexer": "ipython3",
   "version": "3.11.9"
  }
 },
 "nbformat": 4,
 "nbformat_minor": 2
}
