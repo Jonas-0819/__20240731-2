{
 "cells": [
  {
   "cell_type": "code",
   "execution_count": null,
   "metadata": {},
   "outputs": [],
   "source": [
    "age=17\n",
    "\n",
    "if age>=18:\n",
    "    print(\"可以考駕照\")\n",
    "else:\n",
    "    print(\"不可以考駕照\")"
   ]
  },
  {
   "cell_type": "code",
   "execution_count": null,
   "metadata": {},
   "outputs": [],
   "source": [
    "import math\n",
    "try:\n",
    "    score=int(input(\"請輸入學生分數(最高300)\"))\n",
    "    if score>300:\n",
    "        raise Exception\n",
    "    if score<0:\n",
    "        raise Exception\n",
    "\n",
    "    is_add=input(\"學生是否加分(y or n)\")\n",
    "    if is_add==\"y\":\n",
    "        score*=1.05\n",
    "        score=math.ceil(score)\n",
    "    #math.ceil是回傳大於或等於該數的整數\n",
    "    print(f'學生分數是{score}')\n",
    "except ValueError:\n",
    "    print(\"格式錯誤\")\n",
    "except Exception:\n",
    "    print(\"不知名錯誤\")\n",
    "else:\n",
    "    print(\"應用程式結束\")"
   ]
  },
  {
   "cell_type": "code",
   "execution_count": 1,
   "metadata": {},
   "outputs": [
    {
     "name": "stdout",
     "output_type": "stream",
     "text": [
      "可以考駕照\n"
     ]
    }
   ],
   "source": [
    "age=19\n",
    "\n",
    "if not age<18:\n",
    "    print(\"可以考駕照\")\n",
    "else:\n",
    "    print(\"不可以考駕照\")"
   ]
  }
 ],
 "metadata": {
  "kernelspec": {
   "display_name": "Python 3",
   "language": "python",
   "name": "python3"
  },
  "language_info": {
   "codemirror_mode": {
    "name": "ipython",
    "version": 3
   },
   "file_extension": ".py",
   "mimetype": "text/x-python",
   "name": "python",
   "nbconvert_exporter": "python",
   "pygments_lexer": "ipython3",
   "version": "3.11.9"
  }
 },
 "nbformat": 4,
 "nbformat_minor": 2
}
