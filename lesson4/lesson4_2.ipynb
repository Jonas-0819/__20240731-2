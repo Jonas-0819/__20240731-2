{
 "cells": [
  {
   "cell_type": "code",
   "execution_count": 2,
   "metadata": {},
   "outputs": [
    {
     "name": "stdout",
     "output_type": "stream",
     "text": [
      "學生分數是250\n"
     ]
    }
   ],
   "source": [
    "import math\n",
    "score=int(input(\"請輸入學生分數\"))\n",
    "is_add=input(\"學生是否加分\")\n",
    "\n",
    "if is_add==\"y\":\n",
    "    score*=1.05\n",
    "    score=math.ceil(score)\n",
    "#math.ceil是回傳大於或等於該數的整數\n",
    "print(f'學生分數是{score}')\n"
   ]
  }
 ],
 "metadata": {
  "kernelspec": {
   "display_name": "Python 3",
   "language": "python",
   "name": "python3"
  },
  "language_info": {
   "codemirror_mode": {
    "name": "ipython",
    "version": 3
   },
   "file_extension": ".py",
   "mimetype": "text/x-python",
   "name": "python",
   "nbconvert_exporter": "python",
   "pygments_lexer": "ipython3",
   "version": "3.11.9"
  }
 },
 "nbformat": 4,
 "nbformat_minor": 2
}
