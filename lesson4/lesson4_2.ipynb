{
 "cells": [
  {
   "cell_type": "code",
   "execution_count": 3,
   "metadata": {},
   "outputs": [
    {
     "name": "stdout",
     "output_type": "stream",
     "text": [
      "學生分數為優\n"
     ]
    }
   ],
   "source": [
    "score=int(input(\"請輸入學生分數\"))\n",
    "if score>=90:\n",
    "    grade=\"優\"\n",
    "elif score>=80:\n",
    "    grade=\"佳\"\n",
    "elif score>=70:\n",
    "    grade=\"可\"\n",
    "elif score>=60:\n",
    "    grade=\"普\"\n",
    "elif score<60:\n",
    "    grade=\"爛\"\n",
    "\n",
    "print(f\"學生分數為{grade}\")\n"
   ]
  },
  {
   "cell_type": "code",
   "execution_count": null,
   "metadata": {},
   "outputs": [],
   "source": [
    "import math\n",
    "\n",
    "money = int(input('請輸入購買金額:'))\n",
    "if money < 10000:\n",
    "    pay_money = money\n",
    "elif money < 30000:\n",
    "    pay_money = money * 0.95\n",
    "elif money < 50000:\n",
    "    pay_money = money * 0.9\n",
    "elif money < 100000:\n",
    "    pay_money = money * 0.85\n",
    "else:\n",
    "    pay_money = money * 0.8\n",
    "\n",
    "print(f\"實付金額是:{math.ceil(pay_money)}\")"
   ]
  }
 ],
 "metadata": {
  "kernelspec": {
   "display_name": "Python 3",
   "language": "python",
   "name": "python3"
  },
  "language_info": {
   "codemirror_mode": {
    "name": "ipython",
    "version": 3
   },
   "file_extension": ".py",
   "mimetype": "text/x-python",
   "name": "python",
   "nbconvert_exporter": "python",
   "pygments_lexer": "ipython3",
   "version": "3.11.9"
  }
 },
 "nbformat": 4,
 "nbformat_minor": 2
}
