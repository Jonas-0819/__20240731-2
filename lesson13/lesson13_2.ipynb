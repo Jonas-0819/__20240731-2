{
 "cells": [
  {
   "cell_type": "code",
   "execution_count": 3,
   "metadata": {},
   "outputs": [
    {
     "data": {
      "text/plain": [
       "[3, 6, 9, 12, 15]"
      ]
     },
     "execution_count": 3,
     "metadata": {},
     "output_type": "execute_result"
    }
   ],
   "source": [
    "values = [1, 2, 3, 4, 5]\n",
    "multiply = 3\n",
    "\n",
    "new_values = []\n",
    "for i in values:\n",
    "    new_values.append(i*multiply)\n",
    "\n",
    "new_values"
   ]
  },
  {
   "cell_type": "code",
   "execution_count": 5,
   "metadata": {},
   "outputs": [
    {
     "data": {
      "text/plain": [
       "[3, 6, 9, 12, 15]"
      ]
     },
     "execution_count": 5,
     "metadata": {},
     "output_type": "execute_result"
    }
   ],
   "source": [
    "values = [1, 2, 3, 4, 5]\n",
    "multiply = 3\n",
    "\n",
    "new_values = [i*multiply for i in values]#更快\n",
    "new_values"
   ]
  },
  {
   "cell_type": "code",
   "execution_count": 9,
   "metadata": {},
   "outputs": [
    {
     "data": {
      "text/plain": [
       "[1, 2, 3, 4, 5, 1, 2, 3, 4, 5, 1, 2, 3, 4, 5]"
      ]
     },
     "execution_count": 9,
     "metadata": {},
     "output_type": "execute_result"
    }
   ],
   "source": [
    "values = [1, 2, 3, 4, 5]\n",
    "multiply = 3\n",
    "values * multiply"
   ]
  },
  {
   "cell_type": "code",
   "execution_count": 10,
   "metadata": {},
   "outputs": [
    {
     "data": {
      "text/plain": [
       "array([ 3.14159, 12.56636, 28.27431, 50.26544, 78.53975])"
      ]
     },
     "execution_count": 10,
     "metadata": {},
     "output_type": "execute_result"
    }
   ],
   "source": [
    "import numpy as np\n",
    "values_array = np.array([1, 2, 3, 4, 5])\n",
    "multiply = 3\n",
    "values_array * multiply\n",
    "values_array ** 2 * 3.14159"
   ]
  },
  {
   "cell_type": "code",
   "execution_count": 11,
   "metadata": {},
   "outputs": [
    {
     "data": {
      "text/plain": [
       "array([[70, 68, 85, 77, 84],\n",
       "       [65, 68, 99, 74, 58],\n",
       "       [74, 97, 84, 72, 85],\n",
       "       [81, 93, 99, 67, 91],\n",
       "       [66, 80, 63, 81, 86],\n",
       "       [72, 77, 51, 68, 86],\n",
       "       [86, 97, 88, 59, 59],\n",
       "       [54, 86, 67, 92, 96],\n",
       "       [92, 60, 95, 88, 87],\n",
       "       [97, 76, 82, 50, 89],\n",
       "       [64, 64, 67, 62, 68],\n",
       "       [66, 79, 53, 66, 60],\n",
       "       [87, 76, 84, 85, 99],\n",
       "       [67, 74, 61, 90, 59],\n",
       "       [91, 66, 51, 64, 67],\n",
       "       [69, 64, 63, 75, 72],\n",
       "       [51, 51, 60, 64, 96],\n",
       "       [70, 62, 75, 97, 99],\n",
       "       [60, 60, 81, 63, 60],\n",
       "       [53, 53, 79, 55, 54],\n",
       "       [68, 50, 92, 67, 88],\n",
       "       [81, 54, 81, 79, 89],\n",
       "       [92, 72, 99, 78, 95],\n",
       "       [84, 72, 64, 96, 84],\n",
       "       [53, 52, 77, 63, 94],\n",
       "       [97, 95, 91, 90, 92],\n",
       "       [92, 60, 97, 55, 99],\n",
       "       [59, 59, 67, 91, 70],\n",
       "       [95, 50, 62, 95, 81],\n",
       "       [68, 67, 50, 69, 95],\n",
       "       [64, 68, 79, 98, 81],\n",
       "       [60, 57, 81, 88, 81],\n",
       "       [69, 88, 93, 63, 81],\n",
       "       [81, 75, 95, 72, 91],\n",
       "       [54, 51, 53, 82, 82],\n",
       "       [59, 96, 74, 72, 72],\n",
       "       [77, 96, 54, 87, 79],\n",
       "       [92, 79, 92, 61, 65],\n",
       "       [97, 54, 58, 71, 78],\n",
       "       [68, 53, 53, 97, 71],\n",
       "       [54, 51, 72, 51, 59],\n",
       "       [89, 61, 80, 97, 51],\n",
       "       [65, 77, 70, 86, 89],\n",
       "       [57, 85, 53, 68, 82],\n",
       "       [58, 57, 84, 53, 52],\n",
       "       [79, 94, 91, 51, 73],\n",
       "       [91, 88, 71, 82, 85],\n",
       "       [69, 55, 81, 59, 78],\n",
       "       [50, 78, 72, 74, 84],\n",
       "       [92, 57, 51, 82, 73]])"
      ]
     },
     "execution_count": 11,
     "metadata": {},
     "output_type": "execute_result"
    }
   ],
   "source": [
    "import numpy as np\n",
    "np.random.randint(50,100,size=(50,5))"
   ]
  }
 ],
 "metadata": {
  "kernelspec": {
   "display_name": "Python 3",
   "language": "python",
   "name": "python3"
  },
  "language_info": {
   "codemirror_mode": {
    "name": "ipython",
    "version": 3
   },
   "file_extension": ".py",
   "mimetype": "text/x-python",
   "name": "python",
   "nbconvert_exporter": "python",
   "pygments_lexer": "ipython3",
   "version": "3.11.9"
  }
 },
 "nbformat": 4,
 "nbformat_minor": 2
}
