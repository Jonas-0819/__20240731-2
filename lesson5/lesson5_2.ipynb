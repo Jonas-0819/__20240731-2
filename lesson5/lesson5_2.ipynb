{
 "cells": [
  {
   "cell_type": "code",
   "execution_count": 2,
   "metadata": {},
   "outputs": [
    {
     "name": "stdout",
     "output_type": "stream",
     "text": [
      "55\n"
     ]
    }
   ],
   "source": [
    "sum=0\n",
    "sum+=1\n",
    "sum+=2\n",
    "sum+=3\n",
    "sum+=4\n",
    "sum+=5\n",
    "sum+=6\n",
    "sum+=7\n",
    "sum+=8\n",
    "sum+=9\n",
    "sum+=10\n",
    "print(sum)"
   ]
  },
  {
   "cell_type": "code",
   "execution_count": 5,
   "metadata": {},
   "outputs": [
    {
     "name": "stdout",
     "output_type": "stream",
     "text": [
      "10\n"
     ]
    }
   ],
   "source": [
    "sum=0\n",
    "for i in range(1,5):\n",
    "    sum+=i\n",
    "\n",
    "print(sum)"
   ]
  },
  {
   "cell_type": "code",
   "execution_count": 8,
   "metadata": {},
   "outputs": [
    {
     "name": "stdout",
     "output_type": "stream",
     "text": [
      "1\n",
      "2\n",
      "5\n",
      "10\n"
     ]
    }
   ],
   "source": [
    "value=int(input(\"請輸入一個數值\"))\n",
    "for n in range(1,value+1):\n",
    "    if value%n==0:\n",
    "        print(n)\n"
   ]
  },
  {
   "cell_type": "code",
   "execution_count": 15,
   "metadata": {},
   "outputs": [
    {
     "name": "stdout",
     "output_type": "stream",
     "text": [
      "1*1=1\t\n",
      "1*2=2\t\n",
      "1*3=3\t\n",
      "1*4=4\t\n",
      "1*5=5\t\n",
      "1*6=6\t\n",
      "1*7=7\t\n",
      "1*8=8\t\n",
      "1*9=9\t\n",
      "2*1=2\t\n",
      "2*2=4\t\n",
      "2*3=6\t\n",
      "2*4=8\t\n",
      "2*5=10\t\n",
      "2*6=12\t\n",
      "2*7=14\t\n",
      "2*8=16\t\n",
      "2*9=18\t\n",
      "3*1=3\t\n",
      "3*2=6\t\n",
      "3*3=9\t\n",
      "3*4=12\t\n",
      "3*5=15\t\n",
      "3*6=18\t\n",
      "3*7=21\t\n",
      "3*8=24\t\n",
      "3*9=27\t\n",
      "4*1=4\t\n",
      "4*2=8\t\n",
      "4*3=12\t\n",
      "4*4=16\t\n",
      "4*5=20\t\n",
      "4*6=24\t\n",
      "4*7=28\t\n",
      "4*8=32\t\n",
      "4*9=36\t\n",
      "5*1=5\t\n",
      "5*2=10\t\n",
      "5*3=15\t\n",
      "5*4=20\t\n",
      "5*5=25\t\n",
      "5*6=30\t\n",
      "5*7=35\t\n",
      "5*8=40\t\n",
      "5*9=45\t\n",
      "6*1=6\t\n",
      "6*2=12\t\n",
      "6*3=18\t\n",
      "6*4=24\t\n",
      "6*5=30\t\n",
      "6*6=36\t\n",
      "6*7=42\t\n",
      "6*8=48\t\n",
      "6*9=54\t\n",
      "7*1=7\t\n",
      "7*2=14\t\n",
      "7*3=21\t\n",
      "7*4=28\t\n",
      "7*5=35\t\n",
      "7*6=42\t\n",
      "7*7=49\t\n",
      "7*8=56\t\n",
      "7*9=63\t\n",
      "8*1=8\t\n",
      "8*2=16\t\n",
      "8*3=24\t\n",
      "8*4=32\t\n",
      "8*5=40\t\n",
      "8*6=48\t\n",
      "8*7=56\t\n",
      "8*8=64\t\n",
      "8*9=72\t\n",
      "9*1=9\t\n",
      "9*2=18\t\n",
      "9*3=27\t\n",
      "9*4=36\t\n",
      "9*5=45\t\n",
      "9*6=54\t\n",
      "9*7=63\t\n",
      "9*8=72\t\n",
      "9*9=81\t\n"
     ]
    }
   ],
   "source": [
    "for i in range(1,10):\n",
    "    for j in range(1,10):\n",
    "        print(f'{i}*{j}={i*j}',end='\\t')\n",
    "        print()\n"
   ]
  },
  {
   "cell_type": "code",
   "execution_count": 24,
   "metadata": {},
   "outputs": [
    {
     "name": "stdout",
     "output_type": "stream",
     "text": [
      "5帥10帥15,,\n"
     ]
    }
   ],
   "source": [
    "(x,y,z)=(5,10,15)\n",
    "print(x,y,z,sep='帥',end=',,\\n')#輸完符號換行"
   ]
  },
  {
   "cell_type": "code",
   "execution_count": null,
   "metadata": {},
   "outputs": [],
   "source": []
  }
 ],
 "metadata": {
  "kernelspec": {
   "display_name": "Python 3",
   "language": "python",
   "name": "python3"
  },
  "language_info": {
   "codemirror_mode": {
    "name": "ipython",
    "version": 3
   },
   "file_extension": ".py",
   "mimetype": "text/x-python",
   "name": "python",
   "nbconvert_exporter": "python",
   "pygments_lexer": "ipython3",
   "version": "3.11.9"
  }
 },
 "nbformat": 4,
 "nbformat_minor": 2
}
