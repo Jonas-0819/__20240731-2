{
 "cells": [
  {
   "cell_type": "code",
   "execution_count": 4,
   "metadata": {},
   "outputs": [
    {
     "name": "stdout",
     "output_type": "stream",
     "text": [
      "max:5,min:3\n"
     ]
    }
   ],
   "source": [
    "value1=int(input(\"輸入第一個數\"))\n",
    "value2=int(input(\"輸入第二個數\"))\n",
    "if value1>value2:\n",
    "    max=value1\n",
    "    min=value2\n",
    "else:\n",
    "    max=value2\n",
    "    min=value1\n",
    "print(f\"max:{max},min:{min}\")\n"
   ]
  },
  {
   "cell_type": "code",
   "execution_count": 6,
   "metadata": {},
   "outputs": [
    {
     "name": "stdout",
     "output_type": "stream",
     "text": [
      "max:69,min:69\n"
     ]
    }
   ],
   "source": [
    "value1=int(input(\"輸入第一個數\"))\n",
    "value2=int(input(\"輸入第二個數\"))\n",
    "(max,min)=(value1,value2) if value1>value2 else (value2,value1)\n",
    "print(f\"max:{max},min:{min}\")\n"
   ]
  }
 ],
 "metadata": {
  "kernelspec": {
   "display_name": "Python 3",
   "language": "python",
   "name": "python3"
  },
  "language_info": {
   "codemirror_mode": {
    "name": "ipython",
    "version": 3
   },
   "file_extension": ".py",
   "mimetype": "text/x-python",
   "name": "python",
   "nbconvert_exporter": "python",
   "pygments_lexer": "ipython3",
   "version": "3.11.9"
  }
 },
 "nbformat": 4,
 "nbformat_minor": 2
}
