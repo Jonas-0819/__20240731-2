{
 "cells": [
  {
   "cell_type": "code",
   "execution_count": null,
   "metadata": {},
   "outputs": [],
   "source": [
    "import requests\n",
    "url=\"https://raw.githubusercontent.com/roberthsu2003/python/master/%E6%AA%94%E6%A1%88%E5%AD%98%E5%8F%96/%E6%AD%B7%E5%B9%B4%E5%9C%8B%E5%85%A7%E4%B8%BB%E8%A6%81%E8%A7%80%E5%85%89%E9%81%8A%E6%86%A9%E6%93%9A%E9%BB%9E%E9%81%8A%E5%AE%A2%E4%BA%BA%E6%95%B8%E6%9C%88%E5%88%A5%E7%B5%B1%E8%A8%88.csv\"\n",
    "response=requests.get(url)\n",
    "print(response.text)"
   ]
  },
  {
   "cell_type": "code",
   "execution_count": 21,
   "metadata": {},
   "outputs": [],
   "source": [
    "import requests\n",
    "from requests.exceptions import HTTPError,ConnectionError,Timeout\n",
    "try:\n",
    "    url='https://raw.githubusercontent.com/roberthsu2003/python/master/%E6%AA%94%E6%A1%88%E5%AD%98%E5%8F%96/%E6%AD%B7%E5%B9%B4%E5%9C%8B%E5%85%A7%E4%B8%BB%E8%A6%81%E8%A7%80%E5%85%89%E9%81%8A%E6%86%A9%E6%93%9A%E9%BB%9E%E9%81%8A%E5%AE%A2%E4%BA%BA%E6%95%B8%E6%9C%88%E5%88%A5%E7%B5%B1%E8%A8%88.csv'\n",
    "    response=requests.get(url)\n",
    "    response.raise_for_status()\n",
    "    #print(type(response.text))\n",
    "    content=response.text\n",
    "    content\n",
    "except ConnectionError:\n",
    "    print(\"連線伺服器發生錯誤\")\n",
    "except Timeout:\n",
    "    print(\"伺服器太忙,沒有回應\")\n",
    "except HTTPError:\n",
    "    print(\"伺服器回應連線錯誤\")\n",
    "except Exception:\n",
    "    print(\"不知名的錯誤\")\n",
    "file=open('歷年國內主要觀光遊憩據點遊客人數月別統計.csv',encoding='utf-8',mode='w',newline='')\n",
    "file.write(content)\n",
    "file.close()\n"
   ]
  },
  {
   "cell_type": "code",
   "execution_count": 22,
   "metadata": {},
   "outputs": [],
   "source": [
    "import requests\n",
    "from requests.exceptions import HTTPError,ConnectionError,Timeout\n",
    "try:\n",
    "    url='https://raw.githubusercontent.com/roberthsu2003/__2024_07_29_1_3_night__/main/lesson11/%E7%8E%89%E5%B1%B1%E5%9C%8B%E5%AE%B6%E5%85%AC%E5%9C%92.csv'\n",
    "    response=requests.get(url)\n",
    "    response.raise_for_status()\n",
    "    #print(type(response.text))\n",
    "    content=response.text\n",
    "    content\n",
    "except ConnectionError:\n",
    "    print(\"連線伺服器發生錯誤\")\n",
    "except Timeout:\n",
    "    print(\"伺服器太忙,沒有回應\")\n",
    "except HTTPError:\n",
    "    print(\"伺服器回應連線錯誤\")\n",
    "except Exception:\n",
    "    print(\"不知名的錯誤\")\n",
    "file=open('玉山國家公園.csv',encoding='utf-8',mode='w',newline='')\n",
    "file.write(content)\n",
    "file.close()"
   ]
  }
 ],
 "metadata": {
  "kernelspec": {
   "display_name": "Python 3",
   "language": "python",
   "name": "python3"
  },
  "language_info": {
   "codemirror_mode": {
    "name": "ipython",
    "version": 3
   },
   "file_extension": ".py",
   "mimetype": "text/x-python",
   "name": "python",
   "nbconvert_exporter": "python",
   "pygments_lexer": "ipython3",
   "version": "3.11.9"
  }
 },
 "nbformat": 4,
 "nbformat_minor": 2
}
