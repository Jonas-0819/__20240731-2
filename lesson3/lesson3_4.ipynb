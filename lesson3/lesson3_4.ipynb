{
 "cells": [
  {
   "cell_type": "code",
   "execution_count": 3,
   "metadata": {},
   "outputs": [
    {
     "name": "stdout",
     "output_type": "stream",
     "text": [
      "温沐錦的bmi為21.49959688255845\n"
     ]
    }
   ],
   "source": [
    "name=input(\"請輸入姓名\")\n",
    "height=float(input('請輸入身高'))\n",
    "weight=float(input('請輸入體重'))\n",
    "bmi=weight/(((height*0.01))**2)\n",
    "print(f\"{name}的bmi為{bmi}\")"
   ]
  }
 ],
 "metadata": {
  "kernelspec": {
   "display_name": "Python 3",
   "language": "python",
   "name": "python3"
  },
  "language_info": {
   "codemirror_mode": {
    "name": "ipython",
    "version": 3
   },
   "file_extension": ".py",
   "mimetype": "text/x-python",
   "name": "python",
   "nbconvert_exporter": "python",
   "pygments_lexer": "ipython3",
   "version": "3.11.9"
  }
 },
 "nbformat": 4,
 "nbformat_minor": 2
}
