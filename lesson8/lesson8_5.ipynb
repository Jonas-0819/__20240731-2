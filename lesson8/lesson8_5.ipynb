{
 "cells": [
  {
   "cell_type": "code",
   "execution_count": 2,
   "metadata": {},
   "outputs": [
    {
     "name": "stdout",
     "output_type": "stream",
     "text": [
      "溫促僅 的 BMI 為22.04, 為正常範圍\n",
      "應用程式結束\n"
     ]
    }
   ],
   "source": [
    "class BMI():\n",
    "    def __init__(self, name:str, height:float, weight:float):\n",
    "        self.name = name\n",
    "        self.height = height\n",
    "        self.weight = weight\n",
    "\n",
    "    def getName(self)->str:\n",
    "        return self.name\n",
    "    \n",
    "    def getBMI(self)->float:\n",
    "        return round(self.weight / ((self.height * 0.01) ** 2), ndigits=2)\n",
    "    \n",
    "    def get_status_message(self)->str:\n",
    "        self.bmi = self.getBMI()\n",
    "        \n",
    "        if self.bmi < 18.5:\n",
    "            return \"體重過輕\"\n",
    "        elif self.bmi < 24:\n",
    "            return \"正常範圍\"\n",
    "        elif self.bmi < 27:\n",
    "            return \"過重\"\n",
    "        elif self.bmi < 30:\n",
    "            return \"輕度肥胖\"\n",
    "        elif self.bmi < 35:\n",
    "            return \"中度肥胖\"\n",
    "        else:\n",
    "            return \"重度肥胖\"\n",
    "\n",
    "while True:\n",
    "    try:\n",
    "        name = input(\"請輸入姓名: \")\n",
    "        height = float(input('請輸入身高（cm）: '))\n",
    "        weight = float(input('請輸入體重（kg）: '))\n",
    "        \n",
    "        #這裏建立一個BMI的實體\n",
    "        myBMI = BMI(name=name, height=height, weight=weight)\n",
    "        print(f\"{myBMI.getName()} 的 BMI 為{myBMI.getBMI()}, 為{myBMI.get_status_message()}\")\n",
    "    except ValueError:\n",
    "        print(\"格式錯誤，請重新輸入數據\")\n",
    "        continue\n",
    "\n",
    "    stuff = input(\"請問是否繼續輸入資料 ('q': 離開, 任意鍵: 繼續)? \")\n",
    "\n",
    "    if stuff == 'q':\n",
    "        break\n",
    "\n",
    "print(\"應用程式結束\")\n",
    " "
   ]
  }
 ],
 "metadata": {
  "kernelspec": {
   "display_name": "Python 3",
   "language": "python",
   "name": "python3"
  },
  "language_info": {
   "codemirror_mode": {
    "name": "ipython",
    "version": 3
   },
   "file_extension": ".py",
   "mimetype": "text/x-python",
   "name": "python",
   "nbconvert_exporter": "python",
   "pygments_lexer": "ipython3",
   "version": "3.11.9"
  }
 },
 "nbformat": 4,
 "nbformat_minor": 2
}
