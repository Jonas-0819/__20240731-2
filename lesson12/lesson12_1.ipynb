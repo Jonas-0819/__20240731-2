{
 "cells": [
  {
   "cell_type": "code",
   "execution_count": 3,
   "metadata": {},
   "outputs": [],
   "source": [
    "import requests\n",
    "from requests import Response\n",
    "youbike_url=\"https://tcgbusfs.blob.core.windows.net/dotapp/youbike/v2/youbike_immediate.json\"\n",
    "try:\n",
    "    respons:Response=requests.request('Get',youbike_url)\n",
    "    respons.raise_for_status\n",
    "except Exception:\n",
    "    print(\"下載錯誤\")\n",
    "else:\n",
    "    content=respons.text\n",
    "\n",
    "\n"
   ]
  },
  {
   "cell_type": "code",
   "execution_count": null,
   "metadata": {},
   "outputs": [],
   "source": [
    "from pprint import pprint\n",
    "pprint(content)\n"
   ]
  },
  {
   "cell_type": "code",
   "execution_count": 6,
   "metadata": {},
   "outputs": [
    {
     "ename": "ModuleNotFoundError",
     "evalue": "No module named 'pydantic'",
     "output_type": "error",
     "traceback": [
      "\u001b[0;31m---------------------------------------------------------------------------\u001b[0m",
      "\u001b[0;31mModuleNotFoundError\u001b[0m                       Traceback (most recent call last)",
      "Cell \u001b[0;32mIn[6], line 1\u001b[0m\n\u001b[0;32m----> 1\u001b[0m \u001b[38;5;28;01mfrom\u001b[39;00m \u001b[38;5;21;01mpydantic\u001b[39;00m \u001b[38;5;28;01mimport\u001b[39;00m BaseModel, RootModel \n\u001b[1;32m      3\u001b[0m \u001b[38;5;28;01mclass\u001b[39;00m \u001b[38;5;21;01mStation\u001b[39;00m(BaseModel):\n\u001b[1;32m      4\u001b[0m     sna:\u001b[38;5;28mstr\u001b[39m\n",
      "\u001b[0;31mModuleNotFoundError\u001b[0m: No module named 'pydantic'"
     ]
    }
   ],
   "source": [
    "from pydantic import BaseModel, RootModel \n",
    "\n",
    "class Station(BaseModel):\n",
    "    sna:str\n",
    "    sarea:str\n",
    "    mday:str\n",
    "    ar:str\n",
    "    act:str\n",
    "    total:int\n",
    "    available_rent_bikes:int\n",
    "    available_return_bikes:int\n",
    "\n",
    "class Youbikes(RootModel):\n",
    "    root:list[Station]\n",
    "\n",
    "youbikes:Youbikes = Youbikes.model_validate_json(content)\n",
    "youbikes_list = youbikes.model_dump()\n",
    "pprint(youbikes_list)"
   ]
  }
 ],
 "metadata": {
  "kernelspec": {
   "display_name": "Python 3",
   "language": "python",
   "name": "python3"
  },
  "language_info": {
   "codemirror_mode": {
    "name": "ipython",
    "version": 3
   },
   "file_extension": ".py",
   "mimetype": "text/x-python",
   "name": "python",
   "nbconvert_exporter": "python",
   "pygments_lexer": "ipython3",
   "version": "3.11.9"
  }
 },
 "nbformat": 4,
 "nbformat_minor": 2
}
